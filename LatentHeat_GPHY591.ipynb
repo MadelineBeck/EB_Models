{
 "cells": [
  {
   "cell_type": "markdown",
   "id": "18f30f83",
   "metadata": {},
   "source": [
    "This calculates the latent heat flux for the met station"
   ]
  },
  {
   "cell_type": "code",
   "execution_count": 1,
   "id": "33d69eed",
   "metadata": {},
   "outputs": [],
   "source": [
    "# Install the necessary packages\n",
    "import pandas as pd"
   ]
  },
  {
   "cell_type": "code",
   "execution_count": null,
   "id": "4cc839c1",
   "metadata": {},
   "outputs": [],
   "source": [
    "# Import the .csv for the MET Station\n",
    "inMet = pd.read_csv('')"
   ]
  }
 ],
 "metadata": {
  "kernelspec": {
   "display_name": "Python 3 (ipykernel)",
   "language": "python",
   "name": "python3"
  },
  "language_info": {
   "codemirror_mode": {
    "name": "ipython",
    "version": 3
   },
   "file_extension": ".py",
   "mimetype": "text/x-python",
   "name": "python",
   "nbconvert_exporter": "python",
   "pygments_lexer": "ipython3",
   "version": "3.9.7"
  }
 },
 "nbformat": 4,
 "nbformat_minor": 5
}
